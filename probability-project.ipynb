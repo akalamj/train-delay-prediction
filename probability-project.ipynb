{
 "cells": [
  {
   "cell_type": "code",
   "execution_count": null,
   "id": "f6258976-682f-47c7-8e64-ab77a06456bd",
   "metadata": {},
   "outputs": [
    {
     "name": "stdout",
     "output_type": "stream",
     "text": [
      "         date train_number train_direction                      station_name  \\\n",
      "0  2019-10-09           G1            down        Beijingnan Railway Station   \n",
      "1  2019-10-09           G1            down           Jinanxi Railway Station   \n",
      "2  2019-10-09           G1            down        Nanjingnan Railway Station   \n",
      "3  2019-10-09           G1            down  Shanghaihongqiao Railway Station   \n",
      "4  2019-10-10           G1            down        Beijingnan Railway Station   \n",
      "\n",
      "   station_order scheduled_arrival_time scheduled_departure_time stop_time  \\\n",
      "0              1               09:00:00                 09:00:00      ----   \n",
      "1              2               10:22:00                 10:24:00         2   \n",
      "2              3               12:24:00                 12:26:00         2   \n",
      "3              4               13:28:00                 13:28:00      ----   \n",
      "4              1               09:00:00                 09:00:00      ----   \n",
      "\n",
      "  actual_arrival_time actual_departure_time  arrival_delay  departure_delay  \\\n",
      "0            09:00:00              09:00:00              0                0   \n",
      "1            10:21:00              10:23:00             -1               -1   \n",
      "2            12:24:00              12:27:00              0                1   \n",
      "3            13:24:00              13:24:00             -4                0   \n",
      "4            09:00:00              09:00:00              0                0   \n",
      "\n",
      "                      wind     weather  temperature  major_holiday  \n",
      "0   light winds from the S       sunny           22          False  \n",
      "1   light winds from the S  light rain           22          False  \n",
      "2  light winds from the SE      cloudy           24          False  \n",
      "3   light winds from the E      cloudy           24          False  \n",
      "4   light winds from the E      cloudy           21          False  \n"
     ]
    }
   ],
   "source": [
    "import pandas as pd\n",
    "import numpy as np\n",
    "from sklearn.model_selection import train_test_split\n",
    "from sklearn.preprocessing import LabelEncoder\n",
    "from sklearn.ensemble import RandomForestRegressor\n",
    "from sklearn.metrics import mean_squared_error\n",
    "import matplotlib.pyplot as plt\n",
    "\n",
    "# Load the data from CSV\n",
    "file_path = r'C:\\Users\\akjka\\Desktop\\high-speed trains operation data.csv'\n",
    "data = pd.read_csv(file_path)\n",
    "\n",
    "# Display the first few rows to understand the structure\n",
    "print(data.head())\n",
    "\n",
    "# Data Preprocessing\n",
    "# Handle missing values (for simplicity, we will drop rows with missing values for now)\n",
    "data = data.dropna()\n",
    "\n",
    "# Encode categorical columns using Label Encoding (like train_direction, weather, etc.)\n",
    "label_encoder = LabelEncoder()\n",
    "\n",
    "# Example: Encoding 'weather' and 'train_direction'\n",
    "data['weather'] = label_encoder.fit_transform(data['weather'])\n",
    "data['train_direction'] = label_encoder.fit_transform(data['train_direction'])\n",
    "\n",
    "# Function to handle invalid times\n",
    "def convert_time_to_minutes(time_str):\n",
    "    try:\n",
    "        # Handle cases where the hour is 24 (which is invalid)\n",
    "        if time_str.startswith(\"24\"):\n",
    "            return None  # We can return None or any placeholder for invalid data\n",
    "        time_obj = pd.to_datetime(time_str, format='%H:%M:%S')\n",
    "        return time_obj.hour * 60 + time_obj.minute\n",
    "    except Exception as e:\n",
    "        return None  # If time conversion fails, return None\n",
    "\n",
    "# Convert time columns using the custom function\n",
    "data['scheduled_arrival_time'] = data['scheduled_arrival_time'].apply(convert_time_to_minutes)\n",
    "data['scheduled_departure_time'] = data['scheduled_departure_time'].apply(convert_time_to_minutes)\n",
    "data['actual_arrival_time'] = data['actual_arrival_time'].apply(convert_time_to_minutes)\n",
    "data['actual_departure_time'] = data['actual_departure_time'].apply(convert_time_to_minutes)\n",
    "\n",
    "# Drop rows with invalid times (None values)\n",
    "data = data.dropna(subset=['scheduled_arrival_time', 'scheduled_departure_time', 'actual_arrival_time', 'actual_departure_time'])\n",
    "\n",
    "# Feature Engineering: Creating target variables for delays\n",
    "data['arrival_delay'] = data['actual_arrival_time'] - data['scheduled_arrival_time']\n",
    "data['departure_delay'] = data['actual_departure_time'] - data['scheduled_departure_time']\n",
    "\n",
    "# Select features for the model (dropping time and date columns for now, since we want to focus on delays)\n",
    "features = data[['train_number', 'train_direction', 'station_order', 'weather', 'temperature', 'major_holiday']]\n",
    "target_arrival_delay = data['arrival_delay']\n",
    "target_departure_delay = data['departure_delay']\n",
    "\n",
    "# Split the data into training and testing sets\n",
    "X_train, X_test, y_train_arrival, y_test_arrival = train_test_split(features, target_arrival_delay, test_size=0.2, random_state=42)\n",
    "X_train, X_test, y_train_departure, y_test_departure = train_test_split(features, target_departure_delay, test_size=0.2, random_state=42)\n",
    "\n",
    "# Initialize and train the Random Forest model for arrival delay prediction\n",
    "arrival_delay_model = RandomForestRegressor(n_estimators=100, random_state=42)\n",
    "arrival_delay_model.fit(X_train, y_train_arrival)\n",
    "\n",
    "# Predict on test data\n",
    "y_pred_arrival = arrival_delay_model.predict(X_test)\n",
    "\n",
    "# Evaluate the model using Mean Squared Error\n",
    "arrival_mse = mean_squared_error(y_test_arrival, y_pred_arrival)\n",
    "print(f'Mean Squared Error for Arrival Delay Prediction: {arrival_mse}')\n",
    "\n",
    "# Initialize and train the Random Forest model for departure delay prediction\n",
    "departure_delay_model = RandomForestRegressor(n_estimators=100, random_state=42)\n",
    "departure_delay_model.fit(X_train, y_train_departure)\n",
    "\n",
    "# Predict on test data\n",
    "y_pred_departure = departure_delay_model.predict(X_test)\n",
    "\n",
    "# Evaluate the model using Mean Squared Error\n",
    "departure_mse = mean_squared_error(y_test_departure, y_pred_departure)\n",
    "print(f'Mean Squared Error for Departure Delay Prediction: {departure_mse}')\n",
    "\n",
    "# Plotting actual vs predicted delays for arrival and departure\n",
    "plt.figure(figsize=(12, 6))\n",
    "\n",
    "# Plot for Arrival Delay\n",
    "plt.subplot(1, 2, 1)\n",
    "plt.scatter(y_test_arrival, y_pred_arrival)\n",
    "plt.xlabel('Actual Arrival Delay')\n",
    "plt.ylabel('Predicted Arrival Delay')\n",
    "plt.title('Actual vs Predicted Arrival Delay')\n",
    "\n",
    "# Plot for Departure Delay\n",
    "plt.subplot(1, 2, 2)\n",
    "plt.scatter(y_test_departure, y_pred_departure)\n",
    "plt.xlabel('Actual Departure Delay')\n",
    "plt.ylabel('Predicted Departure Delay')\n",
    "plt.title('Actual vs Predicted Departure Delay')\n",
    "\n",
    "plt.tight_layout()\n",
    "plt.show()\n"
   ]
  },
  {
   "cell_type": "code",
   "execution_count": 6,
   "id": "f6378015-d5a1-4b1e-9ffd-c11eb3333b20",
   "metadata": {},
   "outputs": [
    {
     "ename": "ModuleNotFoundError",
     "evalue": "No module named 'cuml'",
     "output_type": "error",
     "traceback": [
      "\u001b[1;31m---------------------------------------------------------------------------\u001b[0m",
      "\u001b[1;31mModuleNotFoundError\u001b[0m                       Traceback (most recent call last)",
      "Cell \u001b[1;32mIn[6], line 1\u001b[0m\n\u001b[1;32m----> 1\u001b[0m \u001b[38;5;28;01mimport\u001b[39;00m\u001b[38;5;250m \u001b[39m\u001b[38;5;21;01mcuml\u001b[39;00m\n\u001b[0;32m      2\u001b[0m \u001b[38;5;28;01mimport\u001b[39;00m\u001b[38;5;250m \u001b[39m\u001b[38;5;21;01mcudf\u001b[39;00m\n\u001b[0;32m      3\u001b[0m \u001b[38;5;28;01mimport\u001b[39;00m\u001b[38;5;250m \u001b[39m\u001b[38;5;21;01mpandas\u001b[39;00m\u001b[38;5;250m \u001b[39m\u001b[38;5;28;01mas\u001b[39;00m\u001b[38;5;250m \u001b[39m\u001b[38;5;21;01mpd\u001b[39;00m\n",
      "\u001b[1;31mModuleNotFoundError\u001b[0m: No module named 'cuml'"
     ]
    }
   ],
   "source": [
    "import cuml\n",
    "import cudf\n",
    "import pandas as pd\n",
    "from cuml.ensemble import RandomForestClassifier as cuRF\n",
    "from sklearn.model_selection import train_test_split\n",
    "from sklearn.metrics import accuracy_score\n",
    "\n",
    "# Step 1: Load your data\n",
    "data = pd.read_csv(r'C:\\Users\\akjka\\Desktop\\high-speed trains operation data.csv')\n",
    "\n",
    "# Step 2: Prepare your data\n",
    "# Replace '----' values in 'stop_time' and convert them to NaN\n",
    "data['stop_time'] = data['stop_time'].replace('----', '0').astype(float)\n",
    "\n",
    "# Convert categorical columns to numeric (using label encoding or one-hot encoding)\n",
    "data['train_direction'] = data['train_direction'].map({'down': 0, 'up': 1})\n",
    "data['weather'] = data['weather'].map({'sunny': 0, 'cloudy': 1, 'light rain': 2, 'overcast': 3, 'light rain': 4})\n",
    "\n",
    "# Drop non-numeric columns like 'station_name' and 'train_number'\n",
    "data = data.drop(columns=['station_name', 'train_number'])\n",
    "\n",
    "# Step 3: Split your data into features and target\n",
    "X = data.drop(columns=['arrival_delay'])  # Features\n",
    "y = data['arrival_delay']  # Target\n",
    "\n",
    "# Step 4: Split data into training and test sets\n",
    "X_train, X_test, y_train, y_test = train_test_split(X, y, test_size=0.2, random_state=42)\n",
    "\n",
    "# Step 5: Convert to cuDF (GPU-accelerated dataframe)\n",
    "X_train_gpu = cudf.DataFrame.from_pandas(X_train)\n",
    "X_test_gpu = cudf.DataFrame.from_pandas(X_test)\n",
    "y_train_gpu = cudf.Series(y_train.values)\n",
    "y_test_gpu = cudf.Series(y_test.values)\n",
    "\n",
    "# Step 6: Initialize and train the cuML Random Forest model\n",
    "rf_model = cuRF(n_estimators=100, max_depth=10)\n",
    "rf_model.fit(X_train_gpu, y_train_gpu)\n",
    "\n",
    "# Step 7: Make predictions and evaluate the model\n",
    "y_pred_gpu = rf_model.predict(X_test_gpu)\n",
    "y_pred_cpu = y_pred_gpu.to_array()  # Convert back to CPU array for accuracy calculation\n",
    "\n",
    "# Step 8: Evaluate the model's performance\n",
    "accuracy = accuracy_score(y_test, y_pred_cpu)\n",
    "print(f\"Accuracy: {accuracy * 100:.2f}%\")\n"
   ]
  },
  {
   "cell_type": "code",
   "execution_count": null,
   "id": "8049036a-1d29-49ec-9102-94bae8bff45b",
   "metadata": {},
   "outputs": [],
   "source": [
    "import os\n",
    "\n",
    "# Updating conda first\n",
    "os.system('conda update conda -y')\n",
    "\n",
    "# Creating a new conda environment and installing cuML with CUDA support\n",
    "os.system('conda create -n cuml-env python=3.8 -y')\n",
    "os.system('conda activate cuml-env')\n",
    "\n",
    "# Install cuML with CUDA toolkit 11.2\n",
    "os.system('conda install -c rapidsai -c nvidia -c conda-forge cuml=21.12 python=3.8 cudatoolkit=11.2 -y')\n",
    "\n",
    "# Alternatively, use mamba if conda is slow or stuck\n",
    "# os.system('conda install mamba -c conda-forge -y')\n",
    "# os.system('mamba install -c rapidsai -c nvidia -c conda-forge cuml=21.12 python=3.8 cudatoolkit=11.2 -y')\n"
   ]
  },
  {
   "cell_type": "code",
   "execution_count": null,
   "id": "d125ca0c-c045-4b47-b05a-965505b2209c",
   "metadata": {},
   "outputs": [],
   "source": [
    "import os\n",
    "\n",
    "# Force using the NVIDIA GPU (usually device 0)\n",
    "os.environ['CUDA_VISIBLE_DEVICES'] = '0'  # Ensure the first GPU (usually NVIDIA) is used\n"
   ]
  },
  {
   "cell_type": "code",
   "execution_count": null,
   "id": "222c4b3a-a814-414a-87e8-b1da0e3ef9a5",
   "metadata": {},
   "outputs": [],
   "source": [
    "import tensorflow as tf\n",
    "\n",
    "# Check if TensorFlow is using the GPU\n",
    "if tf.config.experimental.list_physical_devices('GPU'):\n",
    "    print(\"TensorFlow is using the GPU\")\n",
    "else:\n",
    "    print(\"TensorFlow is not using the GPU\")\n"
   ]
  },
  {
   "cell_type": "code",
   "execution_count": 12,
   "id": "29d361a3-acfc-4e9b-a78f-3f68930bd92b",
   "metadata": {},
   "outputs": [
    {
     "name": "stdout",
     "output_type": "stream",
     "text": [
      "CUDA Available:  False\n"
     ]
    }
   ],
   "source": [
    "import tensorflow as tf\n",
    "print(\"CUDA Available: \", tf.test.is_built_with_cuda())\n"
   ]
  },
  {
   "cell_type": "code",
   "execution_count": 14,
   "id": "7404d95c-45c4-4e5e-89ed-7913ca2b3263",
   "metadata": {},
   "outputs": [
    {
     "name": "stdout",
     "output_type": "stream",
     "text": [
      "False\n"
     ]
    }
   ],
   "source": [
    "import torch\n",
    "print(torch.cuda.is_available())\n"
   ]
  },
  {
   "cell_type": "code",
   "execution_count": 16,
   "id": "c8bfd8cb-0887-42fd-b3ff-bd5334f55393",
   "metadata": {},
   "outputs": [
    {
     "name": "stdout",
     "output_type": "stream",
     "text": [
      "Num GPUs Available:  0\n"
     ]
    }
   ],
   "source": [
    "import tensorflow as tf\n",
    "print(\"Num GPUs Available: \", len(tf.config.experimental.list_physical_devices('GPU')))\n"
   ]
  },
  {
   "cell_type": "code",
   "execution_count": 18,
   "id": "0e62fe54-0e4f-4910-bc9c-838efd84d4c7",
   "metadata": {},
   "outputs": [
    {
     "name": "stdout",
     "output_type": "stream",
     "text": [
      "No GPU available\n"
     ]
    }
   ],
   "source": [
    "import tensorflow as tf\n",
    "\n",
    "# List all physical devices\n",
    "physical_devices = tf.config.list_physical_devices('GPU')\n",
    "\n",
    "if len(physical_devices) == 0:\n",
    "    print(\"No GPU available\")\n",
    "else:\n",
    "    print(f\"Number of GPUs available: {len(physical_devices)}\")\n",
    "    print(f\"GPU Details: {physical_devices}\")\n"
   ]
  },
  {
   "cell_type": "code",
   "execution_count": 4,
   "id": "6285bb24-42ff-4bbf-9459-8bc25f20b427",
   "metadata": {},
   "outputs": [
    {
     "name": "stdout",
     "output_type": "stream",
     "text": [
      "Num GPUs Available:  1\n"
     ]
    }
   ],
   "source": [
    "import tensorflow as tf\n",
    "print(\"Num GPUs Available: \", len(tf.config.experimental.list_physical_devices('GPU')))\n",
    "\n",
    "\n"
   ]
  },
  {
   "cell_type": "code",
   "execution_count": 22,
   "id": "0d9d62f3-ebaa-4517-8ba5-2bb4e020a350",
   "metadata": {},
   "outputs": [
    {
     "name": "stdout",
     "output_type": "stream",
     "text": [
      "Num GPUs Available:  0\n"
     ]
    }
   ],
   "source": [
    "import tensorflow as tf\n",
    "print(\"Num GPUs Available: \", len(tf.config.experimental.list_physical_devices('GPU')))\n"
   ]
  },
  {
   "cell_type": "code",
   "execution_count": 26,
   "id": "a00b0b8c-7830-4a34-b4e5-d8eaacd2f915",
   "metadata": {},
   "outputs": [
    {
     "name": "stdout",
     "output_type": "stream",
     "text": [
      "tf.Tensor(\n",
      "[[-0.03107389]\n",
      " [ 0.23109524]\n",
      " [ 0.10349568]\n",
      " [ 0.12372905]\n",
      " [ 0.13975994]\n",
      " [-0.16285366]\n",
      " [-0.19773996]\n",
      " [ 0.07594924]\n",
      " [ 0.19424835]\n",
      " [-0.08638588]], shape=(10, 1), dtype=float32)\n"
     ]
    },
    {
     "name": "stderr",
     "output_type": "stream",
     "text": [
      "C:\\Users\\akjka\\anaconda3\\Lib\\site-packages\\keras\\src\\layers\\core\\dense.py:87: UserWarning: Do not pass an `input_shape`/`input_dim` argument to a layer. When using Sequential models, prefer using an `Input(shape)` object as the first layer in the model instead.\n",
      "  super().__init__(activity_regularizer=activity_regularizer, **kwargs)\n"
     ]
    }
   ],
   "source": [
    "import tensorflow as tf\n",
    "import numpy as np\n",
    "\n",
    "# Create a simple model\n",
    "model = tf.keras.Sequential([\n",
    "    tf.keras.layers.Dense(10, activation='relu', input_shape=(5,)),\n",
    "    tf.keras.layers.Dense(1)\n",
    "])\n",
    "\n",
    "# Create a random input\n",
    "input_data = np.random.random((10, 5))\n",
    "\n",
    "# Try running a prediction\n",
    "output_data = model(input_data)\n",
    "print(output_data)\n"
   ]
  },
  {
   "cell_type": "code",
   "execution_count": 2,
   "id": "4b1c1d99-e82a-4c29-b872-0eadad81c3ba",
   "metadata": {},
   "outputs": [
    {
     "name": "stdout",
     "output_type": "stream",
     "text": [
      "Num GPUs Available:  1\n"
     ]
    }
   ],
   "source": [
    "\n",
    "import tensorflow as tf\n",
    "print(\"Num GPUs Available: \", len(tf.config.experimental.list_physical_devices('GPU')))\n"
   ]
  },
  {
   "cell_type": "code",
   "execution_count": null,
   "id": "f4307a45-f580-4e0d-9600-0aaf84feed99",
   "metadata": {},
   "outputs": [],
   "source": [
    "import pandas as pd\n",
    "import numpy as np\n",
    "import tensorflow as tf\n",
    "from sklearn.model_selection import train_test_split\n",
    "from sklearn.preprocessing import StandardScaler\n",
    "\n",
    "# Load dataset\n",
    "file_path = \"C:/Users/akjka/Desktop/high-speed trains operation data.csv\"\n",
    "data = pd.read_csv(file_path)\n",
    "\n",
    "# Handle missing values\n",
    "data = data.replace(\"----\", np.nan)  # Replace '----' with NaN for easy cleaning\n",
    "data = data.dropna()  # Drop rows with missing values\n",
    "\n",
    "# Feature engineering\n",
    "# Convert times to minutes since midnight\n",
    "def time_to_minutes(time_str):\n",
    "    if isinstance(time_str, str):\n",
    "        time = pd.to_datetime(time_str, format=\"%H:%M:%S\")\n",
    "        return time.hour * 60 + time.minute\n",
    "    return 0\n",
    "\n",
    "data['scheduled_arrival_time'] = data['scheduled_arrival_time'].apply(time_to_minutes)\n",
    "data['scheduled_departure_time'] = data['scheduled_departure_time'].apply(time_to_minutes)\n",
    "data['actual_arrival_time'] = data['actual_arrival_time'].apply(time_to_minutes)\n",
    "data['actual_departure_time'] = data['actual_departure_time'].apply(time_to_minutes)\n",
    "\n",
    "# Convert categorical columns (e.g., weather, wind) to numerical using label encoding\n",
    "data['weather'] = data['weather'].astype('category').cat.codes\n",
    "data['wind'] = data['wind'].astype('category').cat.codes\n",
    "\n",
    "# Extract features and target variable\n",
    "X = data[['scheduled_arrival_time', 'scheduled_departure_time', 'station_order', 'weather', 'wind', 'temperature']]\n",
    "y = data['arrival_delay']  # You can also use 'departure_delay' for another prediction\n",
    "\n",
    "# Split the data into training and testing sets\n",
    "X_train, X_test, y_train, y_test = train_test_split(X, y, test_size=0.2, random_state=42)\n",
    "\n",
    "# Scale the features\n",
    "scaler = StandardScaler()\n",
    "X_train = scaler.fit_transform(X_train)\n",
    "X_test = scaler.transform(X_test)\n"
   ]
  },
  {
   "cell_type": "code",
   "execution_count": 1,
   "id": "147491df-dc15-48f3-be6e-ea7e1b3ac9a4",
   "metadata": {},
   "outputs": [
    {
     "name": "stdout",
     "output_type": "stream",
     "text": [
      "TensorFlow is using 1 GPU(s)\n",
      "GPU: PhysicalDevice(name='/physical_device:GPU:0', device_type='GPU')\n"
     ]
    }
   ],
   "source": [
    "import tensorflow as tf\n",
    "\n",
    "# Check if TensorFlow is using GPU\n",
    "gpus = tf.config.list_physical_devices('GPU')\n",
    "if gpus:\n",
    "    print(f\"TensorFlow is using {len(gpus)} GPU(s)\")\n",
    "    for gpu in gpus:\n",
    "        print(f\"GPU: {gpu}\")\n",
    "else:\n",
    "    print(\"TensorFlow is not using a GPU\")\n"
   ]
  },
  {
   "cell_type": "code",
   "execution_count": 5,
   "id": "c99a1eca-f8fb-4e77-a56f-a567f4cb550c",
   "metadata": {},
   "outputs": [
    {
     "name": "stdout",
     "output_type": "stream",
     "text": [
      "Downloading data from https://storage.googleapis.com/tensorflow/tf-keras-datasets/mnist.npz\n",
      "11493376/11490434 [==============================] - 2s 0us/step\n",
      "11501568/11490434 [==============================] - 2s 0us/step\n",
      "Epoch 1/10\n",
      "469/469 [==============================] - 15s 7ms/step - loss: 0.2314 - accuracy: 0.9316 - val_loss: 0.0627 - val_accuracy: 0.9808\n",
      "Epoch 2/10\n",
      "469/469 [==============================] - 3s 6ms/step - loss: 0.0597 - accuracy: 0.9818 - val_loss: 0.0483 - val_accuracy: 0.9848\n",
      "Epoch 3/10\n",
      "469/469 [==============================] - 3s 6ms/step - loss: 0.0416 - accuracy: 0.9869 - val_loss: 0.0393 - val_accuracy: 0.9878\n",
      "Epoch 4/10\n",
      "469/469 [==============================] - 3s 6ms/step - loss: 0.0314 - accuracy: 0.9901 - val_loss: 0.0442 - val_accuracy: 0.9868\n",
      "Epoch 5/10\n",
      "469/469 [==============================] - 3s 6ms/step - loss: 0.0250 - accuracy: 0.9920 - val_loss: 0.0290 - val_accuracy: 0.9906\n",
      "Epoch 6/10\n",
      "469/469 [==============================] - 3s 6ms/step - loss: 0.0205 - accuracy: 0.9938 - val_loss: 0.0337 - val_accuracy: 0.9890\n",
      "Epoch 7/10\n",
      "469/469 [==============================] - 3s 6ms/step - loss: 0.0185 - accuracy: 0.9938 - val_loss: 0.0246 - val_accuracy: 0.9926\n",
      "Epoch 8/10\n",
      "469/469 [==============================] - 3s 6ms/step - loss: 0.0156 - accuracy: 0.9944 - val_loss: 0.0284 - val_accuracy: 0.9919\n",
      "Epoch 9/10\n",
      "469/469 [==============================] - 3s 6ms/step - loss: 0.0129 - accuracy: 0.9958 - val_loss: 0.0286 - val_accuracy: 0.9910\n",
      "Epoch 10/10\n",
      "469/469 [==============================] - 3s 6ms/step - loss: 0.0101 - accuracy: 0.9966 - val_loss: 0.0412 - val_accuracy: 0.9895\n"
     ]
    }
   ],
   "source": [
    "import tensorflow as tf\n",
    "from tensorflow.keras import layers, models\n",
    "from tensorflow.keras.datasets import mnist\n",
    "import numpy as np\n",
    "\n",
    "# Load the MNIST dataset\n",
    "(X_train, y_train), (X_test, y_test) = mnist.load_data()\n",
    "\n",
    "# Preprocess the data\n",
    "X_train = X_train.reshape((X_train.shape[0], 28, 28, 1))  # Reshape for CNN input\n",
    "X_test = X_test.reshape((X_test.shape[0], 28, 28, 1))  # Reshape for CNN input\n",
    "X_train, X_test = X_train / 255.0, X_test / 255.0  # Normalize to [0, 1]\n",
    "\n",
    "# Define the model\n",
    "model = models.Sequential([\n",
    "    layers.Conv2D(32, (3, 3), activation='relu', input_shape=(28, 28, 1)),\n",
    "    layers.MaxPooling2D((2, 2)),\n",
    "    layers.Conv2D(64, (3, 3), activation='relu'),\n",
    "    layers.MaxPooling2D((2, 2)),\n",
    "    layers.Conv2D(64, (3, 3), activation='relu'),\n",
    "    layers.Flatten(),\n",
    "    layers.Dense(64, activation='relu'),\n",
    "    layers.Dense(10, activation='softmax')\n",
    "])\n",
    "\n",
    "# Compile the model\n",
    "model.compile(optimizer='adam', loss='sparse_categorical_crossentropy', metrics=['accuracy'])\n",
    "\n",
    "# Increase the batch size for training\n",
    "history = model.fit(X_train, y_train, epochs=10, batch_size=128, validation_data=(X_test, y_test))\n"
   ]
  },
  {
   "cell_type": "code",
   "execution_count": 5,
   "id": "5ae98143-0544-4460-bb43-b442f3b94f2b",
   "metadata": {},
   "outputs": [
    {
     "name": "stdout",
     "output_type": "stream",
     "text": [
      "Index(['date', 'train_number', 'train_direction', 'station_name',\n",
      "       'station_order', 'scheduled_arrival_time', 'scheduled_departure_time',\n",
      "       'stop_time', 'actual_arrival_time', 'actual_departure_time',\n",
      "       'arrival_delay', 'departure_delay', 'wind', 'weather', 'temperature',\n",
      "       'major_holiday'],\n",
      "      dtype='object')\n",
      "Epoch 1/20\n",
      "17199/17199 [==============================] - 91s 5ms/step - loss: 6035.5591 - mae: 15.9956 - val_loss: 6027.1104 - val_mae: 15.6762\n",
      "Epoch 2/20\n",
      "17199/17199 [==============================] - 94s 5ms/step - loss: 5987.4111 - mae: 16.2153 - val_loss: 6032.0938 - val_mae: 16.4601\n",
      "Epoch 3/20\n",
      "17199/17199 [==============================] - 92s 5ms/step - loss: 5977.6719 - mae: 16.2744 - val_loss: 6014.6021 - val_mae: 16.6278\n",
      "Epoch 4/20\n",
      "17199/17199 [==============================] - 92s 5ms/step - loss: 5966.7031 - mae: 16.2792 - val_loss: 5997.8037 - val_mae: 16.9295\n",
      "Epoch 5/20\n",
      "17199/17199 [==============================] - 92s 5ms/step - loss: 5963.5259 - mae: 16.3455 - val_loss: 6009.5098 - val_mae: 16.5004\n",
      "Epoch 6/20\n",
      "17199/17199 [==============================] - 90s 5ms/step - loss: 5960.9238 - mae: 16.3471 - val_loss: 6000.2866 - val_mae: 17.3670\n",
      "Epoch 7/20\n",
      "17199/17199 [==============================] - 93s 5ms/step - loss: 5955.4722 - mae: 16.3528 - val_loss: 5991.3037 - val_mae: 15.8597\n",
      "Epoch 8/20\n",
      "17199/17199 [==============================] - 88s 5ms/step - loss: 5953.1934 - mae: 16.3452 - val_loss: 5987.0664 - val_mae: 16.8131\n",
      "Epoch 9/20\n",
      "17199/17199 [==============================] - 93s 5ms/step - loss: 5950.1318 - mae: 16.3569 - val_loss: 5985.0723 - val_mae: 16.5174\n",
      "Epoch 10/20\n",
      "17199/17199 [==============================] - 94s 5ms/step - loss: 5947.8022 - mae: 16.3783 - val_loss: 5983.7485 - val_mae: 16.7978\n",
      "Epoch 11/20\n",
      "17199/17199 [==============================] - 102s 6ms/step - loss: 5944.3911 - mae: 16.3528 - val_loss: 5987.9282 - val_mae: 16.5760\n",
      "Epoch 12/20\n",
      "17199/17199 [==============================] - 94s 5ms/step - loss: 5944.3306 - mae: 16.3598 - val_loss: 6000.8330 - val_mae: 16.6228\n",
      "Epoch 13/20\n",
      "17199/17199 [==============================] - 87s 5ms/step - loss: 5944.4258 - mae: 16.3674 - val_loss: 5992.5547 - val_mae: 16.4856\n",
      "Epoch 14/20\n",
      "17199/17199 [==============================] - 91s 5ms/step - loss: 5941.3887 - mae: 16.3694 - val_loss: 5976.1841 - val_mae: 16.3489\n",
      "Epoch 15/20\n",
      "17199/17199 [==============================] - 98s 6ms/step - loss: 5940.4580 - mae: 16.3712 - val_loss: 5982.4258 - val_mae: 15.5243\n",
      "Epoch 16/20\n",
      "17199/17199 [==============================] - 103s 6ms/step - loss: 5940.2920 - mae: 16.3560 - val_loss: 5974.4463 - val_mae: 15.9595\n",
      "Epoch 17/20\n",
      "17199/17199 [==============================] - 97s 6ms/step - loss: 5939.1494 - mae: 16.3829 - val_loss: 5970.6450 - val_mae: 16.8969\n",
      "Epoch 18/20\n",
      "17199/17199 [==============================] - 90s 5ms/step - loss: 5936.1562 - mae: 16.3929 - val_loss: 5972.9785 - val_mae: 16.5490\n",
      "Epoch 19/20\n",
      "17199/17199 [==============================] - 94s 5ms/step - loss: 5936.8745 - mae: 16.3956 - val_loss: 5971.0273 - val_mae: 16.3100\n",
      "Epoch 20/20\n",
      "17199/17199 [==============================] - 93s 5ms/step - loss: 5934.4102 - mae: 16.3907 - val_loss: 6000.1123 - val_mae: 15.5500\n"
     ]
    }
   ],
   "source": [
    "import pandas as pd\n",
    "import tensorflow as tf\n",
    "from sklearn.model_selection import train_test_split\n",
    "from sklearn.preprocessing import StandardScaler, LabelEncoder\n",
    "from tensorflow.keras.models import Sequential\n",
    "from tensorflow.keras.layers import Dense\n",
    "# Load your CSV file\n",
    "data = pd.read_csv(\"C:/Users/akjka/Desktop/high-speed trains operation data.csv\")\n",
    "# Check the columns\n",
    "print(data.columns)\n",
    "# Drop unnecessary columns (e.g., train_number, station_name)\n",
    "data = data.drop(columns=[\"date\", \"train_number\", \"station_name\", \"scheduled_arrival_time\", \"scheduled_departure_time\", \"stop_time\", \"actual_arrival_time\", \"actual_departure_time\", \"temperature\"])\n",
    "# Handle missing values if any (e.g., replacing '----' with NaN and then filling them)\n",
    "data.replace('----', None, inplace=True)\n",
    "data = data.dropna()\n",
    "# Encode categorical columns (train_direction, weather, wind, and major_holiday)\n",
    "label_encoder = LabelEncoder()\n",
    "\n",
    "# Encoding categorical columns\n",
    "data['train_direction'] = label_encoder.fit_transform(data['train_direction'])\n",
    "data['weather'] = label_encoder.fit_transform(data['weather'])\n",
    "data['wind'] = label_encoder.fit_transform(data['wind'])\n",
    "data['major_holiday'] = label_encoder.fit_transform(data['major_holiday'])\n",
    "\n",
    "# Features and target variable (assuming you're predicting delays)\n",
    "X = data.drop(columns=[\"arrival_delay\", \"departure_delay\"])\n",
    "y = data[[\"arrival_delay\", \"departure_delay\"]]\n",
    "\n",
    "# Normalize/Scale the feature data\n",
    "scaler = StandardScaler()\n",
    "X_scaled = scaler.fit_transform(X)\n",
    "\n",
    "# Split into train and test sets\n",
    "X_train, X_test, y_train, y_test = train_test_split(X_scaled, y, test_size=0.2, random_state=42)\n",
    "\n",
    "# Define the model (with more complexity for higher GPU usage)\n",
    "model = Sequential([\n",
    "    Dense(512, activation='relu', input_dim=X_train.shape[1]),\n",
    "    Dense(256, activation='relu'),\n",
    "    Dense(128, activation='relu'),\n",
    "    Dense(2)  # Predicting both arrival and departure delays\n",
    "])\n",
    "\n",
    "# Compile the model\n",
    "model.compile(optimizer='adam', loss='mean_squared_error', metrics=['mae'])\n",
    "\n",
    "# Train the model with larger batch size for better GPU utilization\n",
    "history = model.fit(X_train, y_train, epochs=20, batch_size=128, validation_data=(X_test, y_test))\n"
   ]
  },
  {
   "cell_type": "code",
   "execution_count": 11,
   "id": "5b9afa90-26ca-481b-9c74-b6ec83be653e",
   "metadata": {},
   "outputs": [
    {
     "name": "stdout",
     "output_type": "stream",
     "text": [
      "Epoch 1/5\n",
      "34397/34397 [==============================] - 213s 6ms/step - loss: 6064.7915 - mae: 15.8644 - val_loss: 6084.7534 - val_mae: 15.1251\n",
      "Epoch 2/5\n",
      "34397/34397 [==============================] - 207s 6ms/step - loss: 6012.3086 - mae: 16.0243 - val_loss: 6010.9380 - val_mae: 16.2716\n",
      "Epoch 3/5\n",
      "34397/34397 [==============================] - 209s 6ms/step - loss: 6000.3970 - mae: 16.1237 - val_loss: 6004.7207 - val_mae: 16.2079\n",
      "Epoch 4/5\n",
      "34397/34397 [==============================] - 222s 6ms/step - loss: 5992.0757 - mae: 16.1886 - val_loss: 6007.4541 - val_mae: 15.7993\n",
      "Epoch 5/5\n",
      "34397/34397 [==============================] - 208s 6ms/step - loss: 5987.8706 - mae: 16.2056 - val_loss: 6011.3501 - val_mae: 16.5778\n"
     ]
    }
   ],
   "source": [
    "from tensorflow.keras.layers import Dropout\n",
    "\n",
    "# Define the model with Dropout layers\n",
    "model = Sequential([\n",
    "    Dense(512, activation='relu', input_dim=X_train.shape[1]),\n",
    "    Dropout(0.2),  # Add dropout to avoid overfitting\n",
    "    Dense(256, activation='relu'),\n",
    "    Dropout(0.2),\n",
    "    Dense(128, activation='relu'),\n",
    "    Dense(2)  # Predicting both arrival and departure delays\n",
    "])\n",
    "\n",
    "# Compile the model with a lower learning rate for stability\n",
    "model.compile(optimizer=tf.keras.optimizers.Adam(learning_rate=0.001), \n",
    "              loss='mean_squared_error', \n",
    "              metrics=['mae'])\n",
    "\n",
    "# Train the model with a smaller batch size and higher epochs for more training time\n",
    "history = model.fit(X_train, y_train, epochs=5, batch_size=64, validation_data=(X_test, y_test))\n"
   ]
  },
  {
   "cell_type": "code",
   "execution_count": 13,
   "id": "6d52d17d-cdd6-4df6-84c3-bf5cdad8bbb2",
   "metadata": {},
   "outputs": [
    {
     "name": "stdout",
     "output_type": "stream",
     "text": [
      "Predictions on Test Data:\n",
      "[[9.04484   8.689043 ]\n",
      " [4.324617  3.9729254]\n",
      " [3.0336375 2.6395457]\n",
      " [7.575729  7.1812134]\n",
      " [3.0336375 2.6395457]]\n",
      "Mean Absolute Error on Test Data: 16.577770378687546\n"
     ]
    }
   ],
   "source": [
    "# Use the trained model to make predictions on the test data\n",
    "y_pred = model.predict(X_test)\n",
    "\n",
    "# Print the first few predicted values to see the results\n",
    "print(\"Predictions on Test Data:\")\n",
    "print(y_pred[:5])  # Show the first 5 predictions\n",
    "\n",
    "# If you want to see how well the model performed, you can calculate the mean absolute error on the test set\n",
    "from sklearn.metrics import mean_absolute_error\n",
    "\n",
    "mae = mean_absolute_error(y_test, y_pred)\n",
    "print(f\"Mean Absolute Error on Test Data: {mae}\")\n"
   ]
  },
  {
   "cell_type": "code",
   "execution_count": 15,
   "id": "82fed716-ac45-413e-a598-dcdbe4d668d3",
   "metadata": {},
   "outputs": [
    {
     "name": "stdout",
     "output_type": "stream",
     "text": [
      "Mean Absolute Error for Arrival Delay: 13.988370055532348\n",
      "Mean Absolute Error for Departure Delay: 19.167170701842743\n"
     ]
    }
   ],
   "source": [
    "# Assuming the model has two output values: arrival_delay and departure_delay\n",
    "arrival_delay_pred = y_pred[:, 0]\n",
    "departure_delay_pred = y_pred[:, 1]\n",
    "\n",
    "# Calculate MAE for each\n",
    "mae_arrival = mean_absolute_error(y_test['arrival_delay'], arrival_delay_pred)\n",
    "mae_departure = mean_absolute_error(y_test['departure_delay'], departure_delay_pred)\n",
    "\n",
    "print(f\"Mean Absolute Error for Arrival Delay: {mae_arrival}\")\n",
    "print(f\"Mean Absolute Error for Departure Delay: {mae_departure}\")\n"
   ]
  },
  {
   "cell_type": "code",
   "execution_count": 16,
   "id": "4f2f654c-bbbb-41f7-b0cc-9180e5f93b3b",
   "metadata": {},
   "outputs": [
    {
     "name": "stdout",
     "output_type": "stream",
     "text": [
      "Epoch 1/5\n",
      "34397/34397 [==============================] - 200s 6ms/step - loss: 6064.0923 - mae: 15.8152 - val_loss: 6019.6655 - val_mae: 16.2138\n",
      "Epoch 2/5\n",
      "34397/34397 [==============================] - 207s 6ms/step - loss: 6009.3359 - mae: 16.0095 - val_loss: 6019.6025 - val_mae: 16.4365\n",
      "Epoch 3/5\n",
      "34397/34397 [==============================] - 204s 6ms/step - loss: 6000.5415 - mae: 16.1092 - val_loss: 6002.8843 - val_mae: 15.9308\n",
      "Epoch 4/5\n",
      "34397/34397 [==============================] - 205s 6ms/step - loss: 5992.9551 - mae: 16.1368 - val_loss: 6020.6851 - val_mae: 16.2440\n",
      "Epoch 5/5\n",
      "34397/34397 [==============================] - 203s 6ms/step - loss: 5989.5093 - mae: 16.2142 - val_loss: 6021.9502 - val_mae: 16.8559\n"
     ]
    },
    {
     "data": {
      "image/png": "[encoded data removed]",
      "text/plain": [
       "<Figure size 1000x600 with 1 Axes>"
      ]
     },
     "metadata": {},
     "output_type": "display_data"
    },
    {
     "data": {
      "image/png": "[encoded data removed]",
      "text/plain": [
       "<Figure size 1000x600 with 1 Axes>"
      ]
     },
     "metadata": {},
     "output_type": "display_data"
    }
   ],
   "source": [
    "import pandas as pd\n",
    "import tensorflow as tf\n",
    "from sklearn.model_selection import train_test_split\n",
    "from sklearn.preprocessing import StandardScaler, LabelEncoder\n",
    "from tensorflow.keras.models import Sequential\n",
    "from tensorflow.keras.layers import Dense, Dropout\n",
    "import matplotlib.pyplot as plt\n",
    "\n",
    "# Load your CSV file\n",
    "data = pd.read_csv(\"C:/Users/akjka/Desktop/high-speed trains operation data.csv\")\n",
    "\n",
    "# Drop unnecessary columns\n",
    "data = data.drop(columns=[\"date\", \"train_number\", \"station_name\", \"scheduled_arrival_time\", \"scheduled_departure_time\", \"stop_time\", \"actual_arrival_time\", \"actual_departure_time\", \"temperature\"])\n",
    "\n",
    "# Handle missing values\n",
    "data.replace('----', None, inplace=True)\n",
    "data = data.dropna()\n",
    "\n",
    "# Encode categorical columns\n",
    "label_encoder = LabelEncoder()\n",
    "data['train_direction'] = label_encoder.fit_transform(data['train_direction'])\n",
    "data['weather'] = label_encoder.fit_transform(data['weather'])\n",
    "data['wind'] = label_encoder.fit_transform(data['wind'])\n",
    "data['major_holiday'] = label_encoder.fit_transform(data['major_holiday'])\n",
    "\n",
    "# Features and target variable\n",
    "X = data.drop(columns=[\"arrival_delay\", \"departure_delay\"])\n",
    "y = data[[\"arrival_delay\", \"departure_delay\"]]\n",
    "\n",
    "# Normalize/Scale the feature data\n",
    "scaler = StandardScaler()\n",
    "X_scaled = scaler.fit_transform(X)\n",
    "\n",
    "# Split into train and test sets\n",
    "X_train, X_test, y_train, y_test = train_test_split(X_scaled, y, test_size=0.2, random_state=42)\n",
    "\n",
    "# Define the model (with Dropout for better generalization)\n",
    "model = Sequential([\n",
    "    Dense(512, activation='relu', input_dim=X_train.shape[1]),\n",
    "    Dropout(0.2),  # Dropout layer\n",
    "    Dense(256, activation='relu'),\n",
    "    Dropout(0.2),\n",
    "    Dense(128, activation='relu'),\n",
    "    Dense(2)  # Predicting both arrival and departure delays\n",
    "])\n",
    "\n",
    "# Compile the model\n",
    "model.compile(optimizer=tf.keras.optimizers.Adam(learning_rate=0.001), \n",
    "              loss='mean_squared_error', \n",
    "              metrics=['mae'])\n",
    "\n",
    "# Train the model and save the history\n",
    "history = model.fit(X_train, y_train, epochs=5, batch_size=64, validation_data=(X_test, y_test))\n",
    "\n",
    "# Plotting training and validation loss\n",
    "plt.figure(figsize=(10, 6))\n",
    "plt.plot(history.history['loss'], label='Training Loss', color='blue')\n",
    "plt.plot(history.history['val_loss'], label='Validation Loss', color='red')\n",
    "plt.title('Training and Validation Loss')\n",
    "plt.xlabel('Epochs')\n",
    "plt.ylabel('Loss')\n",
    "plt.legend()\n",
    "plt.show()\n",
    "\n",
    "# Plotting training and validation MAE (Mean Absolute Error)\n",
    "plt.figure(figsize=(10, 6))\n",
    "plt.plot(history.history['mae'], label='Training MAE', color='blue')\n",
    "plt.plot(history.history['val_mae'], label='Validation MAE', color='red')\n",
    "plt.title('Training and Validation MAE')\n",
    "plt.xlabel('Epochs')\n",
    "plt.ylabel('Mean Absolute Error')\n",
    "plt.legend()\n",
    "plt.show()\n"
   ]
  },
  {
   "cell_type": "code",
   "execution_count": null,
   "id": "6ae30cb5-ea8e-4e56-81e8-fa430673cca1",
   "metadata": {},
   "outputs": [],
   "source": []
  }
 ],
 "metadata": {
  "kernelspec": {
   "display_name": "Python (tf_env)",
   "language": "python",
   "name": "tf_env"
  },
  "language_info": {
   "codemirror_mode": {
    "name": "ipython",
    "version": 3
   },
   "file_extension": ".py",
   "mimetype": "text/x-python",
   "name": "python",
   "nbconvert_exporter": "python",
   "pygments_lexer": "ipython3",
   "version": "3.8.20"
  }
 },
 "nbformat": 4,
 "nbformat_minor": 5
}
